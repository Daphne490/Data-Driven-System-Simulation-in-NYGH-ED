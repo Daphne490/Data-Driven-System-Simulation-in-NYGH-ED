{
 "cells": [
  {
   "cell_type": "code",
   "execution_count": 1,
   "id": "sharing-fantasy",
   "metadata": {},
   "outputs": [],
   "source": [
    "import csv\n",
    "import pandas as pd\n",
    "import numpy as np\n",
    "import os"
   ]
  },
  {
   "cell_type": "markdown",
   "id": "purple-flooring",
   "metadata": {},
   "source": [
    "## Merging dataframes"
   ]
  },
  {
   "cell_type": "code",
   "execution_count": 2,
   "id": "beneficial-benjamin",
   "metadata": {},
   "outputs": [
    {
     "name": "stdout",
     "output_type": "stream",
     "text": [
      "(160002, 4)\n"
     ]
    },
    {
     "data": {
      "text/html": [
       "<div>\n",
       "<style scoped>\n",
       "    .dataframe tbody tr th:only-of-type {\n",
       "        vertical-align: middle;\n",
       "    }\n",
       "\n",
       "    .dataframe tbody tr th {\n",
       "        vertical-align: top;\n",
       "    }\n",
       "\n",
       "    .dataframe thead th {\n",
       "        text-align: right;\n",
       "    }\n",
       "</style>\n",
       "<table border=\"1\" class=\"dataframe\">\n",
       "  <thead>\n",
       "    <tr style=\"text-align: right;\">\n",
       "      <th></th>\n",
       "      <th>run</th>\n",
       "      <th>timestamp</th>\n",
       "      <th>class_id</th>\n",
       "      <th>Number_in_System</th>\n",
       "    </tr>\n",
       "  </thead>\n",
       "  <tbody>\n",
       "    <tr>\n",
       "      <th>0</th>\n",
       "      <td>1.0</td>\n",
       "      <td>0.000000</td>\n",
       "      <td>0.0</td>\n",
       "      <td>0.0</td>\n",
       "    </tr>\n",
       "    <tr>\n",
       "      <th>1</th>\n",
       "      <td>1.0</td>\n",
       "      <td>0.000000</td>\n",
       "      <td>1.0</td>\n",
       "      <td>0.0</td>\n",
       "    </tr>\n",
       "    <tr>\n",
       "      <th>2</th>\n",
       "      <td>1.0</td>\n",
       "      <td>1.009945</td>\n",
       "      <td>1.0</td>\n",
       "      <td>1.0</td>\n",
       "    </tr>\n",
       "    <tr>\n",
       "      <th>3</th>\n",
       "      <td>1.0</td>\n",
       "      <td>1.009945</td>\n",
       "      <td>0.0</td>\n",
       "      <td>0.0</td>\n",
       "    </tr>\n",
       "    <tr>\n",
       "      <th>4</th>\n",
       "      <td>1.0</td>\n",
       "      <td>1.263638</td>\n",
       "      <td>0.0</td>\n",
       "      <td>0.0</td>\n",
       "    </tr>\n",
       "  </tbody>\n",
       "</table>\n",
       "</div>"
      ],
      "text/plain": [
       "   run  timestamp  class_id  Number_in_System\n",
       "0  1.0   0.000000       0.0               0.0\n",
       "1  1.0   0.000000       1.0               0.0\n",
       "2  1.0   1.009945       1.0               1.0\n",
       "3  1.0   1.009945       0.0               0.0\n",
       "4  1.0   1.263638       0.0               0.0"
      ]
     },
     "execution_count": 2,
     "metadata": {},
     "output_type": "execute_result"
    }
   ],
   "source": [
    "df_nis = pd.read_csv('data_NIS.csv')\n",
    "print(df_nis.shape)\n",
    "df_nis.head()"
   ]
  },
  {
   "cell_type": "code",
   "execution_count": 3,
   "id": "removable-emphasis",
   "metadata": {},
   "outputs": [
    {
     "name": "stdout",
     "output_type": "stream",
     "text": [
      "(80001, 3)\n"
     ]
    },
    {
     "data": {
      "text/html": [
       "<div>\n",
       "<style scoped>\n",
       "    .dataframe tbody tr th:only-of-type {\n",
       "        vertical-align: middle;\n",
       "    }\n",
       "\n",
       "    .dataframe tbody tr th {\n",
       "        vertical-align: top;\n",
       "    }\n",
       "\n",
       "    .dataframe thead th {\n",
       "        text-align: right;\n",
       "    }\n",
       "</style>\n",
       "<table border=\"1\" class=\"dataframe\">\n",
       "  <thead>\n",
       "    <tr style=\"text-align: right;\">\n",
       "      <th></th>\n",
       "      <th>run</th>\n",
       "      <th>class_id</th>\n",
       "      <th>Number_in_System</th>\n",
       "    </tr>\n",
       "    <tr>\n",
       "      <th>timestamp</th>\n",
       "      <th></th>\n",
       "      <th></th>\n",
       "      <th></th>\n",
       "    </tr>\n",
       "  </thead>\n",
       "  <tbody>\n",
       "    <tr>\n",
       "      <th>0.000000</th>\n",
       "      <td>2.0</td>\n",
       "      <td>1.0</td>\n",
       "      <td>0.0</td>\n",
       "    </tr>\n",
       "    <tr>\n",
       "      <th>1.009945</th>\n",
       "      <td>2.0</td>\n",
       "      <td>1.0</td>\n",
       "      <td>1.0</td>\n",
       "    </tr>\n",
       "    <tr>\n",
       "      <th>1.263638</th>\n",
       "      <td>2.0</td>\n",
       "      <td>1.0</td>\n",
       "      <td>0.0</td>\n",
       "    </tr>\n",
       "    <tr>\n",
       "      <th>2.160614</th>\n",
       "      <td>2.0</td>\n",
       "      <td>1.0</td>\n",
       "      <td>1.0</td>\n",
       "    </tr>\n",
       "    <tr>\n",
       "      <th>2.608597</th>\n",
       "      <td>2.0</td>\n",
       "      <td>1.0</td>\n",
       "      <td>0.0</td>\n",
       "    </tr>\n",
       "  </tbody>\n",
       "</table>\n",
       "</div>"
      ],
      "text/plain": [
       "           run  class_id  Number_in_System\n",
       "timestamp                                 \n",
       "0.000000   2.0       1.0               0.0\n",
       "1.009945   2.0       1.0               1.0\n",
       "1.263638   2.0       1.0               0.0\n",
       "2.160614   2.0       1.0               1.0\n",
       "2.608597   2.0       1.0               0.0"
      ]
     },
     "execution_count": 3,
     "metadata": {},
     "output_type": "execute_result"
    }
   ],
   "source": [
    "df_nis_combined = df_nis.groupby('timestamp').sum()\n",
    "print(df_nis_combined.shape)\n",
    "df_nis_combined.head()"
   ]
  },
  {
   "cell_type": "code",
   "execution_count": 4,
   "id": "collaborative-nitrogen",
   "metadata": {},
   "outputs": [
    {
     "name": "stdout",
     "output_type": "stream",
     "text": [
      "(80000, 7)\n",
      "(40000, 7)\n"
     ]
    },
    {
     "data": {
      "text/html": [
       "<div>\n",
       "<style scoped>\n",
       "    .dataframe tbody tr th:only-of-type {\n",
       "        vertical-align: middle;\n",
       "    }\n",
       "\n",
       "    .dataframe tbody tr th {\n",
       "        vertical-align: top;\n",
       "    }\n",
       "\n",
       "    .dataframe thead th {\n",
       "        text-align: right;\n",
       "    }\n",
       "</style>\n",
       "<table border=\"1\" class=\"dataframe\">\n",
       "  <thead>\n",
       "    <tr style=\"text-align: right;\">\n",
       "      <th></th>\n",
       "      <th>id_run</th>\n",
       "      <th>arrival_time</th>\n",
       "      <th>timestamp</th>\n",
       "      <th>event_type</th>\n",
       "      <th>C</th>\n",
       "      <th>A</th>\n",
       "      <th>elapsed</th>\n",
       "    </tr>\n",
       "  </thead>\n",
       "  <tbody>\n",
       "    <tr>\n",
       "      <th>0</th>\n",
       "      <td>0_0</td>\n",
       "      <td>1.009945</td>\n",
       "      <td>1.263638</td>\n",
       "      <td>d</td>\n",
       "      <td>1</td>\n",
       "      <td>0</td>\n",
       "      <td>0.253693</td>\n",
       "    </tr>\n",
       "    <tr>\n",
       "      <th>1</th>\n",
       "      <td>1_0</td>\n",
       "      <td>2.160614</td>\n",
       "      <td>2.608597</td>\n",
       "      <td>d</td>\n",
       "      <td>1</td>\n",
       "      <td>0</td>\n",
       "      <td>0.447983</td>\n",
       "    </tr>\n",
       "    <tr>\n",
       "      <th>2</th>\n",
       "      <td>2_0</td>\n",
       "      <td>2.653815</td>\n",
       "      <td>4.901508</td>\n",
       "      <td>d</td>\n",
       "      <td>1</td>\n",
       "      <td>0</td>\n",
       "      <td>2.247693</td>\n",
       "    </tr>\n",
       "    <tr>\n",
       "      <th>3</th>\n",
       "      <td>3_0</td>\n",
       "      <td>3.522926</td>\n",
       "      <td>5.556008</td>\n",
       "      <td>d</td>\n",
       "      <td>1</td>\n",
       "      <td>0</td>\n",
       "      <td>2.033082</td>\n",
       "    </tr>\n",
       "    <tr>\n",
       "      <th>4</th>\n",
       "      <td>4_0</td>\n",
       "      <td>4.546470</td>\n",
       "      <td>6.800055</td>\n",
       "      <td>d</td>\n",
       "      <td>0</td>\n",
       "      <td>0</td>\n",
       "      <td>2.253586</td>\n",
       "    </tr>\n",
       "  </tbody>\n",
       "</table>\n",
       "</div>"
      ],
      "text/plain": [
       "  id_run  arrival_time  timestamp event_type  C  A   elapsed\n",
       "0    0_0      1.009945   1.263638          d  1  0  0.253693\n",
       "1    1_0      2.160614   2.608597          d  1  0  0.447983\n",
       "2    2_0      2.653815   4.901508          d  1  0  2.247693\n",
       "3    3_0      3.522926   5.556008          d  1  0  2.033082\n",
       "4    4_0      4.546470   6.800055          d  0  0  2.253586"
      ]
     },
     "execution_count": 4,
     "metadata": {},
     "output_type": "execute_result"
    }
   ],
   "source": [
    "df_wiq_tis = pd.read_csv('data_WIQ_TIS.csv')\n",
    "print(df_wiq_tis.shape)\n",
    "df_wiq_tis = df_wiq_tis[df_wiq_tis['event_type'] == 'd']\n",
    "print(df_wiq_tis.shape)\n",
    "df_wiq_tis.head()"
   ]
  },
  {
   "cell_type": "code",
   "execution_count": 5,
   "id": "exterior-retrieval",
   "metadata": {},
   "outputs": [
    {
     "name": "stdout",
     "output_type": "stream",
     "text": [
      "(40000, 10)\n"
     ]
    },
    {
     "data": {
      "text/html": [
       "<div>\n",
       "<style scoped>\n",
       "    .dataframe tbody tr th:only-of-type {\n",
       "        vertical-align: middle;\n",
       "    }\n",
       "\n",
       "    .dataframe tbody tr th {\n",
       "        vertical-align: top;\n",
       "    }\n",
       "\n",
       "    .dataframe thead th {\n",
       "        text-align: right;\n",
       "    }\n",
       "</style>\n",
       "<table border=\"1\" class=\"dataframe\">\n",
       "  <thead>\n",
       "    <tr style=\"text-align: right;\">\n",
       "      <th></th>\n",
       "      <th>run</th>\n",
       "      <th>class_id</th>\n",
       "      <th>Number_in_System</th>\n",
       "      <th>id_run</th>\n",
       "      <th>arrival_time</th>\n",
       "      <th>timestamp</th>\n",
       "      <th>event_type</th>\n",
       "      <th>C</th>\n",
       "      <th>A</th>\n",
       "      <th>elapsed</th>\n",
       "    </tr>\n",
       "  </thead>\n",
       "  <tbody>\n",
       "    <tr>\n",
       "      <th>0</th>\n",
       "      <td>2.0</td>\n",
       "      <td>1.0</td>\n",
       "      <td>1.0</td>\n",
       "      <td>0_0</td>\n",
       "      <td>1.009945</td>\n",
       "      <td>1.263638</td>\n",
       "      <td>d</td>\n",
       "      <td>1</td>\n",
       "      <td>0</td>\n",
       "      <td>0.253693</td>\n",
       "    </tr>\n",
       "    <tr>\n",
       "      <th>1</th>\n",
       "      <td>2.0</td>\n",
       "      <td>1.0</td>\n",
       "      <td>1.0</td>\n",
       "      <td>1_0</td>\n",
       "      <td>2.160614</td>\n",
       "      <td>2.608597</td>\n",
       "      <td>d</td>\n",
       "      <td>1</td>\n",
       "      <td>0</td>\n",
       "      <td>0.447983</td>\n",
       "    </tr>\n",
       "    <tr>\n",
       "      <th>2</th>\n",
       "      <td>2.0</td>\n",
       "      <td>1.0</td>\n",
       "      <td>1.0</td>\n",
       "      <td>2_0</td>\n",
       "      <td>2.653815</td>\n",
       "      <td>4.901508</td>\n",
       "      <td>d</td>\n",
       "      <td>1</td>\n",
       "      <td>0</td>\n",
       "      <td>2.247693</td>\n",
       "    </tr>\n",
       "    <tr>\n",
       "      <th>3</th>\n",
       "      <td>2.0</td>\n",
       "      <td>1.0</td>\n",
       "      <td>2.0</td>\n",
       "      <td>3_0</td>\n",
       "      <td>3.522926</td>\n",
       "      <td>5.556008</td>\n",
       "      <td>d</td>\n",
       "      <td>1</td>\n",
       "      <td>0</td>\n",
       "      <td>2.033082</td>\n",
       "    </tr>\n",
       "    <tr>\n",
       "      <th>4</th>\n",
       "      <td>2.0</td>\n",
       "      <td>1.0</td>\n",
       "      <td>3.0</td>\n",
       "      <td>4_0</td>\n",
       "      <td>4.546470</td>\n",
       "      <td>6.800055</td>\n",
       "      <td>d</td>\n",
       "      <td>0</td>\n",
       "      <td>0</td>\n",
       "      <td>2.253586</td>\n",
       "    </tr>\n",
       "  </tbody>\n",
       "</table>\n",
       "</div>"
      ],
      "text/plain": [
       "   run  class_id  Number_in_System id_run  arrival_time  timestamp event_type  \\\n",
       "0  2.0       1.0               1.0    0_0      1.009945   1.263638          d   \n",
       "1  2.0       1.0               1.0    1_0      2.160614   2.608597          d   \n",
       "2  2.0       1.0               1.0    2_0      2.653815   4.901508          d   \n",
       "3  2.0       1.0               2.0    3_0      3.522926   5.556008          d   \n",
       "4  2.0       1.0               3.0    4_0      4.546470   6.800055          d   \n",
       "\n",
       "   C  A   elapsed  \n",
       "0  1  0  0.253693  \n",
       "1  1  0  0.447983  \n",
       "2  1  0  2.247693  \n",
       "3  1  0  2.033082  \n",
       "4  0  0  2.253586  "
      ]
     },
     "execution_count": 5,
     "metadata": {},
     "output_type": "execute_result"
    }
   ],
   "source": [
    "new_df = pd.merge(df_nis_combined, df_wiq_tis,  how='inner', left_on=['timestamp'], right_on = ['arrival_time'])\n",
    "print(new_df.shape)\n",
    "new_df.head()"
   ]
  },
  {
   "cell_type": "code",
   "execution_count": 6,
   "id": "registered-country",
   "metadata": {},
   "outputs": [
    {
     "data": {
      "text/html": [
       "<div>\n",
       "<style scoped>\n",
       "    .dataframe tbody tr th:only-of-type {\n",
       "        vertical-align: middle;\n",
       "    }\n",
       "\n",
       "    .dataframe tbody tr th {\n",
       "        vertical-align: top;\n",
       "    }\n",
       "\n",
       "    .dataframe thead th {\n",
       "        text-align: right;\n",
       "    }\n",
       "</style>\n",
       "<table border=\"1\" class=\"dataframe\">\n",
       "  <thead>\n",
       "    <tr style=\"text-align: right;\">\n",
       "      <th></th>\n",
       "      <th>arrival_time</th>\n",
       "      <th>Type_No_Consult</th>\n",
       "      <th>NIS</th>\n",
       "      <th>LOS</th>\n",
       "    </tr>\n",
       "  </thead>\n",
       "  <tbody>\n",
       "    <tr>\n",
       "      <th>0</th>\n",
       "      <td>1.009945</td>\n",
       "      <td>1</td>\n",
       "      <td>1.0</td>\n",
       "      <td>0.253693</td>\n",
       "    </tr>\n",
       "    <tr>\n",
       "      <th>1</th>\n",
       "      <td>2.160614</td>\n",
       "      <td>1</td>\n",
       "      <td>1.0</td>\n",
       "      <td>0.447983</td>\n",
       "    </tr>\n",
       "    <tr>\n",
       "      <th>2</th>\n",
       "      <td>2.653815</td>\n",
       "      <td>1</td>\n",
       "      <td>1.0</td>\n",
       "      <td>2.247693</td>\n",
       "    </tr>\n",
       "    <tr>\n",
       "      <th>3</th>\n",
       "      <td>3.522926</td>\n",
       "      <td>1</td>\n",
       "      <td>2.0</td>\n",
       "      <td>2.033082</td>\n",
       "    </tr>\n",
       "    <tr>\n",
       "      <th>4</th>\n",
       "      <td>4.546470</td>\n",
       "      <td>0</td>\n",
       "      <td>3.0</td>\n",
       "      <td>2.253586</td>\n",
       "    </tr>\n",
       "    <tr>\n",
       "      <th>...</th>\n",
       "      <td>...</td>\n",
       "      <td>...</td>\n",
       "      <td>...</td>\n",
       "      <td>...</td>\n",
       "    </tr>\n",
       "    <tr>\n",
       "      <th>39995</th>\n",
       "      <td>44498.968327</td>\n",
       "      <td>1</td>\n",
       "      <td>5.0</td>\n",
       "      <td>6.855732</td>\n",
       "    </tr>\n",
       "    <tr>\n",
       "      <th>39996</th>\n",
       "      <td>44499.227551</td>\n",
       "      <td>1</td>\n",
       "      <td>6.0</td>\n",
       "      <td>10.480218</td>\n",
       "    </tr>\n",
       "    <tr>\n",
       "      <th>39997</th>\n",
       "      <td>44499.550381</td>\n",
       "      <td>1</td>\n",
       "      <td>7.0</td>\n",
       "      <td>10.846060</td>\n",
       "    </tr>\n",
       "    <tr>\n",
       "      <th>39998</th>\n",
       "      <td>44500.187678</td>\n",
       "      <td>1</td>\n",
       "      <td>7.0</td>\n",
       "      <td>10.893223</td>\n",
       "    </tr>\n",
       "    <tr>\n",
       "      <th>39999</th>\n",
       "      <td>44500.578194</td>\n",
       "      <td>1</td>\n",
       "      <td>8.0</td>\n",
       "      <td>10.574662</td>\n",
       "    </tr>\n",
       "  </tbody>\n",
       "</table>\n",
       "<p>40000 rows × 4 columns</p>\n",
       "</div>"
      ],
      "text/plain": [
       "       arrival_time  Type_No_Consult  NIS        LOS\n",
       "0          1.009945                1  1.0   0.253693\n",
       "1          2.160614                1  1.0   0.447983\n",
       "2          2.653815                1  1.0   2.247693\n",
       "3          3.522926                1  2.0   2.033082\n",
       "4          4.546470                0  3.0   2.253586\n",
       "...             ...              ...  ...        ...\n",
       "39995  44498.968327                1  5.0   6.855732\n",
       "39996  44499.227551                1  6.0  10.480218\n",
       "39997  44499.550381                1  7.0  10.846060\n",
       "39998  44500.187678                1  7.0  10.893223\n",
       "39999  44500.578194                1  8.0  10.574662\n",
       "\n",
       "[40000 rows x 4 columns]"
      ]
     },
     "execution_count": 6,
     "metadata": {},
     "output_type": "execute_result"
    }
   ],
   "source": [
    "new_df = new_df[['arrival_time', 'C', 'Number_in_System', 'elapsed']]\n",
    "new_df.columns = ['arrival_time', 'Type_No_Consult','NIS','LOS']\n",
    "new_df"
   ]
  },
  {
   "cell_type": "code",
   "execution_count": 7,
   "id": "copyrighted-dominant",
   "metadata": {},
   "outputs": [
    {
     "data": {
      "text/html": [
       "<div>\n",
       "<style scoped>\n",
       "    .dataframe tbody tr th:only-of-type {\n",
       "        vertical-align: middle;\n",
       "    }\n",
       "\n",
       "    .dataframe tbody tr th {\n",
       "        vertical-align: top;\n",
       "    }\n",
       "\n",
       "    .dataframe thead th {\n",
       "        text-align: right;\n",
       "    }\n",
       "</style>\n",
       "<table border=\"1\" class=\"dataframe\">\n",
       "  <thead>\n",
       "    <tr style=\"text-align: right;\">\n",
       "      <th></th>\n",
       "      <th>arrival_time</th>\n",
       "      <th>Type_No_Consult</th>\n",
       "      <th>NIS</th>\n",
       "      <th>LOS</th>\n",
       "    </tr>\n",
       "  </thead>\n",
       "  <tbody>\n",
       "    <tr>\n",
       "      <th>75</th>\n",
       "      <td>84.233729</td>\n",
       "      <td>1</td>\n",
       "      <td>2.0</td>\n",
       "      <td>4.208967</td>\n",
       "    </tr>\n",
       "    <tr>\n",
       "      <th>76</th>\n",
       "      <td>84.497065</td>\n",
       "      <td>1</td>\n",
       "      <td>3.0</td>\n",
       "      <td>4.119121</td>\n",
       "    </tr>\n",
       "    <tr>\n",
       "      <th>77</th>\n",
       "      <td>87.490464</td>\n",
       "      <td>1</td>\n",
       "      <td>3.0</td>\n",
       "      <td>2.089174</td>\n",
       "    </tr>\n",
       "    <tr>\n",
       "      <th>78</th>\n",
       "      <td>87.558266</td>\n",
       "      <td>1</td>\n",
       "      <td>4.0</td>\n",
       "      <td>2.219138</td>\n",
       "    </tr>\n",
       "    <tr>\n",
       "      <th>79</th>\n",
       "      <td>88.914941</td>\n",
       "      <td>1</td>\n",
       "      <td>3.0</td>\n",
       "      <td>0.954941</td>\n",
       "    </tr>\n",
       "  </tbody>\n",
       "</table>\n",
       "</div>"
      ],
      "text/plain": [
       "    arrival_time  Type_No_Consult  NIS       LOS\n",
       "75     84.233729                1  2.0  4.208967\n",
       "76     84.497065                1  3.0  4.119121\n",
       "77     87.490464                1  3.0  2.089174\n",
       "78     87.558266                1  4.0  2.219138\n",
       "79     88.914941                1  3.0  0.954941"
      ]
     },
     "execution_count": 7,
     "metadata": {},
     "output_type": "execute_result"
    }
   ],
   "source": [
    "df_test = new_df[75:]\n",
    "df_test.head()"
   ]
  },
  {
   "cell_type": "code",
   "execution_count": 8,
   "id": "virtual-writer",
   "metadata": {},
   "outputs": [],
   "source": [
    "x_test = df_test[['Type_No_Consult', 'NIS']]\n",
    "y_test = df_test[['LOS']]"
   ]
  },
  {
   "cell_type": "code",
   "execution_count": 9,
   "id": "waiting-relative",
   "metadata": {},
   "outputs": [
    {
     "data": {
      "text/html": [
       "<div>\n",
       "<style scoped>\n",
       "    .dataframe tbody tr th:only-of-type {\n",
       "        vertical-align: middle;\n",
       "    }\n",
       "\n",
       "    .dataframe tbody tr th {\n",
       "        vertical-align: top;\n",
       "    }\n",
       "\n",
       "    .dataframe thead th {\n",
       "        text-align: right;\n",
       "    }\n",
       "</style>\n",
       "<table border=\"1\" class=\"dataframe\">\n",
       "  <thead>\n",
       "    <tr style=\"text-align: right;\">\n",
       "      <th></th>\n",
       "      <th>Type_No_Consult</th>\n",
       "      <th>NIS</th>\n",
       "    </tr>\n",
       "  </thead>\n",
       "  <tbody>\n",
       "    <tr>\n",
       "      <th>75</th>\n",
       "      <td>1</td>\n",
       "      <td>2.0</td>\n",
       "    </tr>\n",
       "    <tr>\n",
       "      <th>76</th>\n",
       "      <td>1</td>\n",
       "      <td>3.0</td>\n",
       "    </tr>\n",
       "    <tr>\n",
       "      <th>77</th>\n",
       "      <td>1</td>\n",
       "      <td>3.0</td>\n",
       "    </tr>\n",
       "    <tr>\n",
       "      <th>78</th>\n",
       "      <td>1</td>\n",
       "      <td>4.0</td>\n",
       "    </tr>\n",
       "    <tr>\n",
       "      <th>79</th>\n",
       "      <td>1</td>\n",
       "      <td>3.0</td>\n",
       "    </tr>\n",
       "  </tbody>\n",
       "</table>\n",
       "</div>"
      ],
      "text/plain": [
       "    Type_No_Consult  NIS\n",
       "75                1  2.0\n",
       "76                1  3.0\n",
       "77                1  3.0\n",
       "78                1  4.0\n",
       "79                1  3.0"
      ]
     },
     "execution_count": 9,
     "metadata": {},
     "output_type": "execute_result"
    }
   ],
   "source": [
    "x_test.head()"
   ]
  },
  {
   "cell_type": "code",
   "execution_count": 10,
   "id": "manufactured-james",
   "metadata": {},
   "outputs": [
    {
     "data": {
      "text/html": [
       "<div>\n",
       "<style scoped>\n",
       "    .dataframe tbody tr th:only-of-type {\n",
       "        vertical-align: middle;\n",
       "    }\n",
       "\n",
       "    .dataframe tbody tr th {\n",
       "        vertical-align: top;\n",
       "    }\n",
       "\n",
       "    .dataframe thead th {\n",
       "        text-align: right;\n",
       "    }\n",
       "</style>\n",
       "<table border=\"1\" class=\"dataframe\">\n",
       "  <thead>\n",
       "    <tr style=\"text-align: right;\">\n",
       "      <th></th>\n",
       "      <th>LOS</th>\n",
       "    </tr>\n",
       "  </thead>\n",
       "  <tbody>\n",
       "    <tr>\n",
       "      <th>75</th>\n",
       "      <td>4.208967</td>\n",
       "    </tr>\n",
       "    <tr>\n",
       "      <th>76</th>\n",
       "      <td>4.119121</td>\n",
       "    </tr>\n",
       "    <tr>\n",
       "      <th>77</th>\n",
       "      <td>2.089174</td>\n",
       "    </tr>\n",
       "    <tr>\n",
       "      <th>78</th>\n",
       "      <td>2.219138</td>\n",
       "    </tr>\n",
       "    <tr>\n",
       "      <th>79</th>\n",
       "      <td>0.954941</td>\n",
       "    </tr>\n",
       "  </tbody>\n",
       "</table>\n",
       "</div>"
      ],
      "text/plain": [
       "         LOS\n",
       "75  4.208967\n",
       "76  4.119121\n",
       "77  2.089174\n",
       "78  2.219138\n",
       "79  0.954941"
      ]
     },
     "execution_count": 10,
     "metadata": {},
     "output_type": "execute_result"
    }
   ],
   "source": [
    "y_test.head()"
   ]
  },
  {
   "cell_type": "code",
   "execution_count": 11,
   "id": "baking-sunglasses",
   "metadata": {},
   "outputs": [],
   "source": [
    "new_df.to_csv('MM1_baseline.csv', index=False)"
   ]
  },
  {
   "cell_type": "code",
   "execution_count": 12,
   "id": "coupled-class",
   "metadata": {},
   "outputs": [
    {
     "data": {
      "text/plain": [
       "20.091031206481784"
      ]
     },
     "execution_count": 12,
     "metadata": {},
     "output_type": "execute_result"
    }
   ],
   "source": [
    "np.mean(new_df['LOS'])"
   ]
  },
  {
   "cell_type": "markdown",
   "id": "blank-medicine",
   "metadata": {},
   "source": [
    "## Naive calculation"
   ]
  },
  {
   "cell_type": "code",
   "execution_count": 13,
   "id": "electric-mambo",
   "metadata": {},
   "outputs": [],
   "source": [
    "def naive_calculations(df, cutdown):\n",
    "    los_list = []\n",
    "    for j in range(len(df)):\n",
    "        if df['Type_No_Consult'][j] == 0:  # consult patient\n",
    "            los_list.append(df['LOS'][j] * cutdown)\n",
    "        else:\n",
    "            los_list.append(df['LOS'][j])\n",
    "\n",
    "    mean = round(np.mean(los_list), 2)\n",
    "    median = round(np.median(los_list), 2)\n",
    "    stdev = round(np.std(los_list), 2)\n",
    "    P90 = round(np.percentile(los_list, q=90), 2)\n",
    "\n",
    "    return mean, median, stdev, P90"
   ]
  },
  {
   "cell_type": "code",
   "execution_count": 14,
   "id": "standing-winner",
   "metadata": {},
   "outputs": [
    {
     "data": {
      "text/html": [
       "<div>\n",
       "<style scoped>\n",
       "    .dataframe tbody tr th:only-of-type {\n",
       "        vertical-align: middle;\n",
       "    }\n",
       "\n",
       "    .dataframe tbody tr th {\n",
       "        vertical-align: top;\n",
       "    }\n",
       "\n",
       "    .dataframe thead th {\n",
       "        text-align: right;\n",
       "    }\n",
       "</style>\n",
       "<table border=\"1\" class=\"dataframe\">\n",
       "  <thead>\n",
       "    <tr style=\"text-align: right;\">\n",
       "      <th></th>\n",
       "      <th>arrival_time</th>\n",
       "      <th>Type_No_Consult</th>\n",
       "      <th>NIS</th>\n",
       "      <th>LOS</th>\n",
       "    </tr>\n",
       "  </thead>\n",
       "  <tbody>\n",
       "    <tr>\n",
       "      <th>0</th>\n",
       "      <td>1.009945</td>\n",
       "      <td>1</td>\n",
       "      <td>1.0</td>\n",
       "      <td>0.253693</td>\n",
       "    </tr>\n",
       "    <tr>\n",
       "      <th>1</th>\n",
       "      <td>2.160614</td>\n",
       "      <td>1</td>\n",
       "      <td>1.0</td>\n",
       "      <td>0.447983</td>\n",
       "    </tr>\n",
       "    <tr>\n",
       "      <th>2</th>\n",
       "      <td>2.653815</td>\n",
       "      <td>1</td>\n",
       "      <td>1.0</td>\n",
       "      <td>2.247693</td>\n",
       "    </tr>\n",
       "    <tr>\n",
       "      <th>3</th>\n",
       "      <td>3.522926</td>\n",
       "      <td>1</td>\n",
       "      <td>2.0</td>\n",
       "      <td>2.033082</td>\n",
       "    </tr>\n",
       "    <tr>\n",
       "      <th>4</th>\n",
       "      <td>4.546470</td>\n",
       "      <td>0</td>\n",
       "      <td>3.0</td>\n",
       "      <td>2.253586</td>\n",
       "    </tr>\n",
       "    <tr>\n",
       "      <th>...</th>\n",
       "      <td>...</td>\n",
       "      <td>...</td>\n",
       "      <td>...</td>\n",
       "      <td>...</td>\n",
       "    </tr>\n",
       "    <tr>\n",
       "      <th>39995</th>\n",
       "      <td>44498.968327</td>\n",
       "      <td>1</td>\n",
       "      <td>5.0</td>\n",
       "      <td>6.855732</td>\n",
       "    </tr>\n",
       "    <tr>\n",
       "      <th>39996</th>\n",
       "      <td>44499.227551</td>\n",
       "      <td>1</td>\n",
       "      <td>6.0</td>\n",
       "      <td>10.480218</td>\n",
       "    </tr>\n",
       "    <tr>\n",
       "      <th>39997</th>\n",
       "      <td>44499.550381</td>\n",
       "      <td>1</td>\n",
       "      <td>7.0</td>\n",
       "      <td>10.846060</td>\n",
       "    </tr>\n",
       "    <tr>\n",
       "      <th>39998</th>\n",
       "      <td>44500.187678</td>\n",
       "      <td>1</td>\n",
       "      <td>7.0</td>\n",
       "      <td>10.893223</td>\n",
       "    </tr>\n",
       "    <tr>\n",
       "      <th>39999</th>\n",
       "      <td>44500.578194</td>\n",
       "      <td>1</td>\n",
       "      <td>8.0</td>\n",
       "      <td>10.574662</td>\n",
       "    </tr>\n",
       "  </tbody>\n",
       "</table>\n",
       "<p>40000 rows × 4 columns</p>\n",
       "</div>"
      ],
      "text/plain": [
       "       arrival_time  Type_No_Consult  NIS        LOS\n",
       "0          1.009945                1  1.0   0.253693\n",
       "1          2.160614                1  1.0   0.447983\n",
       "2          2.653815                1  1.0   2.247693\n",
       "3          3.522926                1  2.0   2.033082\n",
       "4          4.546470                0  3.0   2.253586\n",
       "...             ...              ...  ...        ...\n",
       "39995  44498.968327                1  5.0   6.855732\n",
       "39996  44499.227551                1  6.0  10.480218\n",
       "39997  44499.550381                1  7.0  10.846060\n",
       "39998  44500.187678                1  7.0  10.893223\n",
       "39999  44500.578194                1  8.0  10.574662\n",
       "\n",
       "[40000 rows x 4 columns]"
      ]
     },
     "execution_count": 14,
     "metadata": {},
     "output_type": "execute_result"
    }
   ],
   "source": [
    "new_df"
   ]
  },
  {
   "cell_type": "code",
   "execution_count": 15,
   "id": "killing-raleigh",
   "metadata": {},
   "outputs": [
    {
     "name": "stdout",
     "output_type": "stream",
     "text": [
      "Consult Patients shorten by 50.0 Percent\n",
      "Consult Patients shorten by 0.0 Percent\n",
      "   nPatients  nConsultPatients  percentConsult  Cut Down by (%)   Mean  \\\n",
      "0    10000.0             961.0             9.6             50.0  15.76   \n",
      "1    10000.0             961.0             9.6              0.0  16.57   \n",
      "\n",
      "   Median  Stdev  90th Percentile  \n",
      "0   11.71  13.40             35.4  \n",
      "1   12.71  13.68             36.8  \n"
     ]
    }
   ],
   "source": [
    "# Training data\n",
    "df_train = new_df[20000:30000].reset_index(drop=True)\n",
    "# df_test = new_df[30000:].reset_index(drop=True)\n",
    "\n",
    "df = df_train.copy()\n",
    "# df = df_test.copy()\n",
    "\n",
    "nPatients = len(df)\n",
    "nConsultPatients = len(df[df['Type_No_Consult'] == 0])\n",
    "percentConsult = round(nConsultPatients / nPatients * 100, 1)\n",
    "\n",
    "df_results = pd.DataFrame(\n",
    "    columns=['nPatients', 'nConsultPatients', 'percentConsult', 'Cut Down by (%)', 'Mean', 'Median',\n",
    "             'Stdev', '90th Percentile'])\n",
    "\n",
    "# cutdown_percentage = [0.1, 0.2, 0.3, 0.4, 0.5, 0.6, 0.7, 0.8, 0.9, 1.0]\n",
    "cutdown_percentage = [0.5, 1.0]\n",
    "for i, cutdown in enumerate(cutdown_percentage):\n",
    "    print(\"Consult Patients shorten by {} Percent\".format((1-cutdown)*100))\n",
    "    mean, median, stdev, P90 = naive_calculations(df, cutdown)\n",
    "    df_results.loc[i] = nPatients, nConsultPatients, percentConsult, (\n",
    "                1 - cutdown) * 100, mean, median, stdev, P90\n",
    "\n",
    "print(df_results)\n",
    "\n",
    "save_path_results = os.path.join(os.getcwd(), \"Consult_Reduction_Results_Naive_MM1_train.csv\")\n",
    "df_results.to_csv(save_path_results, index=False, header=True)"
   ]
  },
  {
   "cell_type": "code",
   "execution_count": null,
   "id": "8367051a",
   "metadata": {},
   "outputs": [],
   "source": []
  },
  {
   "cell_type": "markdown",
   "id": "orange-rocket",
   "metadata": {},
   "source": [
    "# M/M/1 (40000 samples generated from M/M/1 simulator) - 1 general nis"
   ]
  },
  {
   "cell_type": "code",
   "execution_count": 16,
   "id": "waiting-wiring",
   "metadata": {},
   "outputs": [],
   "source": [
    "import csv\n",
    "import matplotlib.pyplot as plt\n",
    "import seaborn as sns\n",
    "from matplotlib.pyplot import figure\n",
    "import numpy as np"
   ]
  },
  {
   "cell_type": "code",
   "execution_count": 17,
   "id": "fossil-suspension",
   "metadata": {},
   "outputs": [],
   "source": [
    "def open_list_of_csv(csv_list):\n",
    "    los_list = [[],[],[],[],[]]\n",
    "    for i, filename in enumerate(csv_list):\n",
    "        print(filename)\n",
    "        with open(filename, newline='') as f:\n",
    "            reader = csv.reader(f)\n",
    "            for row in reader:\n",
    "                los_list[i].append(float(row[0]))\n",
    "    return los_list"
   ]
  },
  {
   "cell_type": "code",
   "execution_count": 18,
   "id": "swedish-friday",
   "metadata": {},
   "outputs": [],
   "source": [
    "def plot_los_distributions(los_list, title, x_lim):\n",
    "    figure(figsize=(8, 6), dpi=80)\n",
    "    sns.set_color_codes(\"colorblind\")\n",
    "    sns.histplot(los_list[0], bins='auto', element=\"step\", label='Actual LOS', color='b', alpha=0.2)\n",
    "    sns.histplot(los_list[1], bins='auto', element=\"step\", label='Simulated LOS', color='g', alpha=0.2)\n",
    "\n",
    "    plt.legend()\n",
    "    plt.title('Actual vs. Simulated LOS Distribution ({})'.format(title))\n",
    "    plt.ylabel('Frequency')\n",
    "    plt.xlim(0, x_lim)\n",
    "    plt.show"
   ]
  },
  {
   "cell_type": "code",
   "execution_count": 19,
   "id": "consistent-intake",
   "metadata": {},
   "outputs": [],
   "source": [
    "# plt.hist(los_list[0], bins = 50)"
   ]
  },
  {
   "cell_type": "markdown",
   "id": "sized-slovenia",
   "metadata": {},
   "source": [
    "# Out of Sample Test: Train on samples 10k-30k, Test on samples 30k-40k"
   ]
  },
  {
   "cell_type": "code",
   "execution_count": 20,
   "id": "superior-demand",
   "metadata": {},
   "outputs": [],
   "source": [
    "ofs_csv_list = ['outofsample_LOS_Dist_Actual_MM1 - train10-30k test30-40k.csv', 'outofsample_LOS_Dist_Simulated_MM1 - train10-30k test30-40k (1run).csv']"
   ]
  },
  {
   "cell_type": "code",
   "execution_count": 21,
   "id": "hungry-karma",
   "metadata": {},
   "outputs": [
    {
     "name": "stdout",
     "output_type": "stream",
     "text": [
      "outofsample_LOS_Dist_Actual_MM1 - train10-30k test30-40k.csv\n",
      "outofsample_LOS_Dist_Simulated_MM1 - train10-30k test30-40k (1run).csv\n"
     ]
    }
   ],
   "source": [
    "ofs_los_list = open_list_of_csv(ofs_csv_list)"
   ]
  },
  {
   "cell_type": "code",
   "execution_count": 22,
   "id": "optimum-england",
   "metadata": {},
   "outputs": [
    {
     "data": {
      "text/plain": [
       "(10000, 10000)"
      ]
     },
     "execution_count": 22,
     "metadata": {},
     "output_type": "execute_result"
    }
   ],
   "source": [
    "len(ofs_los_list[0]), len(ofs_los_list[1])"
   ]
  },
  {
   "cell_type": "code",
   "execution_count": 23,
   "id": "official-hypothesis",
   "metadata": {},
   "outputs": [
    {
     "data": {
      "image/png": "[encoded data removed]",
      "text/plain": [
       "<Figure size 640x480 with 1 Axes>"
      ]
     },
     "metadata": {
      "needs_background": "light"
     },
     "output_type": "display_data"
    }
   ],
   "source": [
    "plot_los_distributions(ofs_los_list, 'M/M/1 Experiment (Out-of-Sample)', 300)"
   ]
  },
  {
   "cell_type": "code",
   "execution_count": 24,
   "id": "federal-rocket",
   "metadata": {},
   "outputs": [
    {
     "name": "stdout",
     "output_type": "stream",
     "text": [
      "actual mean los (1 run) 19.547403590587972\n",
      "simulated mean los (1 run) 52.58259143393291\n"
     ]
    }
   ],
   "source": [
    "print('actual mean los (1 run)', np.mean(ofs_los_list[0])) \n",
    "print('simulated mean los (1 run)', np.mean(ofs_los_list[1]))"
   ]
  },
  {
   "cell_type": "markdown",
   "id": "ceramic-timing",
   "metadata": {},
   "source": [
    "# In Sample Test: Train on samples 10k-30k, Test on samples 20k-30k"
   ]
  },
  {
   "cell_type": "code",
   "execution_count": 25,
   "id": "hungarian-memorabilia",
   "metadata": {},
   "outputs": [],
   "source": [
    "is_csv_list = ['insample_LOS_Dist_Actual_MM1 - train10k-30k test20k-30k.csv', 'insample_LOS_Dist_Simulated_MM1 - train10k-30k test20k-30k (1run).csv']"
   ]
  },
  {
   "cell_type": "code",
   "execution_count": 26,
   "id": "controlling-tuner",
   "metadata": {},
   "outputs": [
    {
     "name": "stdout",
     "output_type": "stream",
     "text": [
      "insample_LOS_Dist_Actual_MM1 - train10k-30k test20k-30k.csv\n",
      "insample_LOS_Dist_Simulated_MM1 - train10k-30k test20k-30k (1run).csv\n"
     ]
    }
   ],
   "source": [
    "is_los_list = open_list_of_csv(is_csv_list)"
   ]
  },
  {
   "cell_type": "code",
   "execution_count": 27,
   "id": "built-recommendation",
   "metadata": {},
   "outputs": [
    {
     "data": {
      "text/plain": [
       "(10000, 10000)"
      ]
     },
     "execution_count": 27,
     "metadata": {},
     "output_type": "execute_result"
    }
   ],
   "source": [
    "len(is_los_list[0]), len(is_los_list[1])"
   ]
  },
  {
   "cell_type": "code",
   "execution_count": 28,
   "id": "molecular-literature",
   "metadata": {},
   "outputs": [
    {
     "data": {
      "image/png": "[encoded data removed]",
      "text/plain": [
       "<Figure size 640x480 with 1 Axes>"
      ]
     },
     "metadata": {
      "needs_background": "light"
     },
     "output_type": "display_data"
    }
   ],
   "source": [
    "plot_los_distributions(is_los_list, 'M/M/1 Experiment (In-Sample)', 300)"
   ]
  },
  {
   "cell_type": "code",
   "execution_count": 29,
   "id": "humanitarian-concrete",
   "metadata": {},
   "outputs": [
    {
     "name": "stdout",
     "output_type": "stream",
     "text": [
      "actual mean los (1 run) 16.57360031083062\n",
      "simulated mean los (1 run) 52.60250720965008\n"
     ]
    }
   ],
   "source": [
    "print('actual mean los (1 run)', np.mean(is_los_list[0])) \n",
    "print('simulated mean los (1 run)', np.mean(is_los_list[1]))"
   ]
  },
  {
   "cell_type": "code",
   "execution_count": null,
   "id": "4ecaa735",
   "metadata": {},
   "outputs": [],
   "source": []
  },
  {
   "cell_type": "code",
   "execution_count": null,
   "id": "b684d865",
   "metadata": {},
   "outputs": [],
   "source": []
  }
 ],
 "metadata": {
  "kernelspec": {
   "display_name": "Python 3",
   "language": "python",
   "name": "python3"
  },
  "language_info": {
   "codemirror_mode": {
    "name": "ipython",
    "version": 3
   },
   "file_extension": ".py",
   "mimetype": "text/x-python",
   "name": "python",
   "nbconvert_exporter": "python",
   "pygments_lexer": "ipython3",
   "version": "3.7.6"
  }
 },
 "nbformat": 4,
 "nbformat_minor": 5
}
