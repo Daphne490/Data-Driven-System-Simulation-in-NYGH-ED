{
 "cells": [
  {
   "cell_type": "code",
   "execution_count": 1,
   "id": "sharing-fantasy",
   "metadata": {},
   "outputs": [],
   "source": [
    "import csv\n",
    "import pandas as pd\n",
    "import numpy as np\n",
    "import os"
   ]
  },
  {
   "cell_type": "markdown",
   "id": "purple-flooring",
   "metadata": {},
   "source": [
    "## Merging dataframes"
   ]
  },
  {
   "cell_type": "code",
   "execution_count": 2,
   "id": "beneficial-benjamin",
   "metadata": {
    "scrolled": true
   },
   "outputs": [
    {
     "name": "stdout",
     "output_type": "stream",
     "text": [
      "(160002, 4)\n"
     ]
    },
    {
     "data": {
      "text/html": [
       "<div>\n",
       "<style scoped>\n",
       "    .dataframe tbody tr th:only-of-type {\n",
       "        vertical-align: middle;\n",
       "    }\n",
       "\n",
       "    .dataframe tbody tr th {\n",
       "        vertical-align: top;\n",
       "    }\n",
       "\n",
       "    .dataframe thead th {\n",
       "        text-align: right;\n",
       "    }\n",
       "</style>\n",
       "<table border=\"1\" class=\"dataframe\">\n",
       "  <thead>\n",
       "    <tr style=\"text-align: right;\">\n",
       "      <th></th>\n",
       "      <th>run</th>\n",
       "      <th>timestamp</th>\n",
       "      <th>class_id</th>\n",
       "      <th>Number_in_System</th>\n",
       "    </tr>\n",
       "  </thead>\n",
       "  <tbody>\n",
       "    <tr>\n",
       "      <th>0</th>\n",
       "      <td>1.0</td>\n",
       "      <td>0.000000</td>\n",
       "      <td>0.0</td>\n",
       "      <td>0.0</td>\n",
       "    </tr>\n",
       "    <tr>\n",
       "      <th>1</th>\n",
       "      <td>1.0</td>\n",
       "      <td>0.000000</td>\n",
       "      <td>1.0</td>\n",
       "      <td>0.0</td>\n",
       "    </tr>\n",
       "    <tr>\n",
       "      <th>2</th>\n",
       "      <td>1.0</td>\n",
       "      <td>1.009945</td>\n",
       "      <td>1.0</td>\n",
       "      <td>1.0</td>\n",
       "    </tr>\n",
       "    <tr>\n",
       "      <th>3</th>\n",
       "      <td>1.0</td>\n",
       "      <td>1.009945</td>\n",
       "      <td>0.0</td>\n",
       "      <td>0.0</td>\n",
       "    </tr>\n",
       "    <tr>\n",
       "      <th>4</th>\n",
       "      <td>1.0</td>\n",
       "      <td>1.263638</td>\n",
       "      <td>0.0</td>\n",
       "      <td>0.0</td>\n",
       "    </tr>\n",
       "    <tr>\n",
       "      <th>5</th>\n",
       "      <td>1.0</td>\n",
       "      <td>1.263638</td>\n",
       "      <td>1.0</td>\n",
       "      <td>0.0</td>\n",
       "    </tr>\n",
       "    <tr>\n",
       "      <th>6</th>\n",
       "      <td>1.0</td>\n",
       "      <td>2.160614</td>\n",
       "      <td>0.0</td>\n",
       "      <td>0.0</td>\n",
       "    </tr>\n",
       "    <tr>\n",
       "      <th>7</th>\n",
       "      <td>1.0</td>\n",
       "      <td>2.160614</td>\n",
       "      <td>1.0</td>\n",
       "      <td>1.0</td>\n",
       "    </tr>\n",
       "    <tr>\n",
       "      <th>8</th>\n",
       "      <td>1.0</td>\n",
       "      <td>2.608597</td>\n",
       "      <td>0.0</td>\n",
       "      <td>0.0</td>\n",
       "    </tr>\n",
       "    <tr>\n",
       "      <th>9</th>\n",
       "      <td>1.0</td>\n",
       "      <td>2.608597</td>\n",
       "      <td>1.0</td>\n",
       "      <td>0.0</td>\n",
       "    </tr>\n",
       "  </tbody>\n",
       "</table>\n",
       "</div>"
      ],
      "text/plain": [
       "   run  timestamp  class_id  Number_in_System\n",
       "0  1.0   0.000000       0.0               0.0\n",
       "1  1.0   0.000000       1.0               0.0\n",
       "2  1.0   1.009945       1.0               1.0\n",
       "3  1.0   1.009945       0.0               0.0\n",
       "4  1.0   1.263638       0.0               0.0\n",
       "5  1.0   1.263638       1.0               0.0\n",
       "6  1.0   2.160614       0.0               0.0\n",
       "7  1.0   2.160614       1.0               1.0\n",
       "8  1.0   2.608597       0.0               0.0\n",
       "9  1.0   2.608597       1.0               0.0"
      ]
     },
     "execution_count": 2,
     "metadata": {},
     "output_type": "execute_result"
    }
   ],
   "source": [
    "df_nis = pd.read_csv('data_NIS.csv')\n",
    "print(df_nis.shape)\n",
    "df_nis.head(10)"
   ]
  },
  {
   "cell_type": "code",
   "execution_count": 3,
   "id": "alternative-singapore",
   "metadata": {},
   "outputs": [
    {
     "data": {
      "text/plain": [
       "80001"
      ]
     },
     "execution_count": 3,
     "metadata": {},
     "output_type": "execute_result"
    }
   ],
   "source": [
    "len(df_nis['timestamp'].unique())"
   ]
  },
  {
   "cell_type": "code",
   "execution_count": 4,
   "id": "essential-powell",
   "metadata": {},
   "outputs": [
    {
     "data": {
      "text/html": [
       "<div>\n",
       "<style scoped>\n",
       "    .dataframe tbody tr th:only-of-type {\n",
       "        vertical-align: middle;\n",
       "    }\n",
       "\n",
       "    .dataframe tbody tr th {\n",
       "        vertical-align: top;\n",
       "    }\n",
       "\n",
       "    .dataframe thead th {\n",
       "        text-align: right;\n",
       "    }\n",
       "</style>\n",
       "<table border=\"1\" class=\"dataframe\">\n",
       "  <thead>\n",
       "    <tr style=\"text-align: right;\">\n",
       "      <th></th>\n",
       "      <th>timestamp</th>\n",
       "      <th>NIS_consult</th>\n",
       "      <th>NIS_no_consult</th>\n",
       "    </tr>\n",
       "  </thead>\n",
       "  <tbody>\n",
       "  </tbody>\n",
       "</table>\n",
       "</div>"
      ],
      "text/plain": [
       "Empty DataFrame\n",
       "Columns: [timestamp, NIS_consult, NIS_no_consult]\n",
       "Index: []"
      ]
     },
     "execution_count": 4,
     "metadata": {},
     "output_type": "execute_result"
    }
   ],
   "source": [
    "df_nis_separated = pd.DataFrame(columns=['timestamp', 'NIS_consult', 'NIS_no_consult'])  # 0 = consult, 1 = no consult\n",
    "df_nis_separated"
   ]
  },
  {
   "cell_type": "code",
   "execution_count": 5,
   "id": "clinical-dutch",
   "metadata": {},
   "outputs": [
    {
     "name": "stdout",
     "output_type": "stream",
     "text": [
      "0\n",
      "2000\n",
      "4000\n",
      "6000\n",
      "8000\n",
      "10000\n",
      "12000\n",
      "14000\n",
      "16000\n",
      "18000\n",
      "20000\n",
      "22000\n",
      "24000\n",
      "26000\n",
      "28000\n",
      "30000\n",
      "32000\n",
      "34000\n",
      "36000\n",
      "38000\n",
      "40000\n",
      "42000\n",
      "44000\n",
      "46000\n",
      "48000\n",
      "50000\n",
      "52000\n",
      "54000\n",
      "56000\n",
      "58000\n",
      "60000\n",
      "62000\n",
      "64000\n",
      "66000\n",
      "68000\n",
      "70000\n",
      "72000\n",
      "74000\n",
      "76000\n",
      "78000\n",
      "80000\n",
      "80001\n",
      "   timestamp  NIS_consult  NIS_no_consult\n",
      "0   0.000000          0.0             0.0\n",
      "1   1.009945          0.0             1.0\n",
      "2   1.263638          0.0             0.0\n",
      "3   2.160614          0.0             1.0\n",
      "4   2.608597          0.0             0.0\n"
     ]
    }
   ],
   "source": [
    "for i, t in enumerate(df_nis['timestamp'].unique()):\n",
    "    if i % 2000 == 0:\n",
    "        print(i)\n",
    "    nis_consult = df_nis.loc[(df_nis['timestamp'] == t) & (df_nis['class_id'] == 0.0), 'Number_in_System'].iloc[0]\n",
    "    nis_no_consult = df_nis.loc[(df_nis['timestamp'] == t) & (df_nis['class_id'] == 1.0), 'Number_in_System'].iloc[0]\n",
    "    df_nis_separated.loc[i] = t, nis_consult, nis_no_consult\n",
    "print(len(df_nis_separated))\n",
    "print(df_nis_separated.head())"
   ]
  },
  {
   "cell_type": "code",
   "execution_count": 6,
   "id": "careful-solomon",
   "metadata": {},
   "outputs": [
    {
     "data": {
      "text/html": [
       "<div>\n",
       "<style scoped>\n",
       "    .dataframe tbody tr th:only-of-type {\n",
       "        vertical-align: middle;\n",
       "    }\n",
       "\n",
       "    .dataframe tbody tr th {\n",
       "        vertical-align: top;\n",
       "    }\n",
       "\n",
       "    .dataframe thead th {\n",
       "        text-align: right;\n",
       "    }\n",
       "</style>\n",
       "<table border=\"1\" class=\"dataframe\">\n",
       "  <thead>\n",
       "    <tr style=\"text-align: right;\">\n",
       "      <th></th>\n",
       "      <th>timestamp</th>\n",
       "      <th>NIS_consult</th>\n",
       "      <th>NIS_no_consult</th>\n",
       "    </tr>\n",
       "  </thead>\n",
       "  <tbody>\n",
       "    <tr>\n",
       "      <th>0</th>\n",
       "      <td>0.000000</td>\n",
       "      <td>0.0</td>\n",
       "      <td>0.0</td>\n",
       "    </tr>\n",
       "    <tr>\n",
       "      <th>1</th>\n",
       "      <td>1.009945</td>\n",
       "      <td>0.0</td>\n",
       "      <td>1.0</td>\n",
       "    </tr>\n",
       "    <tr>\n",
       "      <th>2</th>\n",
       "      <td>1.263638</td>\n",
       "      <td>0.0</td>\n",
       "      <td>0.0</td>\n",
       "    </tr>\n",
       "    <tr>\n",
       "      <th>3</th>\n",
       "      <td>2.160614</td>\n",
       "      <td>0.0</td>\n",
       "      <td>1.0</td>\n",
       "    </tr>\n",
       "    <tr>\n",
       "      <th>4</th>\n",
       "      <td>2.608597</td>\n",
       "      <td>0.0</td>\n",
       "      <td>0.0</td>\n",
       "    </tr>\n",
       "    <tr>\n",
       "      <th>5</th>\n",
       "      <td>2.653815</td>\n",
       "      <td>0.0</td>\n",
       "      <td>1.0</td>\n",
       "    </tr>\n",
       "    <tr>\n",
       "      <th>6</th>\n",
       "      <td>3.522926</td>\n",
       "      <td>0.0</td>\n",
       "      <td>2.0</td>\n",
       "    </tr>\n",
       "    <tr>\n",
       "      <th>7</th>\n",
       "      <td>4.546470</td>\n",
       "      <td>1.0</td>\n",
       "      <td>2.0</td>\n",
       "    </tr>\n",
       "    <tr>\n",
       "      <th>8</th>\n",
       "      <td>4.901508</td>\n",
       "      <td>1.0</td>\n",
       "      <td>1.0</td>\n",
       "    </tr>\n",
       "    <tr>\n",
       "      <th>9</th>\n",
       "      <td>5.320448</td>\n",
       "      <td>2.0</td>\n",
       "      <td>1.0</td>\n",
       "    </tr>\n",
       "    <tr>\n",
       "      <th>10</th>\n",
       "      <td>5.556008</td>\n",
       "      <td>2.0</td>\n",
       "      <td>0.0</td>\n",
       "    </tr>\n",
       "    <tr>\n",
       "      <th>11</th>\n",
       "      <td>6.800055</td>\n",
       "      <td>1.0</td>\n",
       "      <td>0.0</td>\n",
       "    </tr>\n",
       "    <tr>\n",
       "      <th>12</th>\n",
       "      <td>7.166575</td>\n",
       "      <td>1.0</td>\n",
       "      <td>1.0</td>\n",
       "    </tr>\n",
       "    <tr>\n",
       "      <th>13</th>\n",
       "      <td>7.293090</td>\n",
       "      <td>1.0</td>\n",
       "      <td>2.0</td>\n",
       "    </tr>\n",
       "    <tr>\n",
       "      <th>14</th>\n",
       "      <td>7.618144</td>\n",
       "      <td>0.0</td>\n",
       "      <td>2.0</td>\n",
       "    </tr>\n",
       "    <tr>\n",
       "      <th>15</th>\n",
       "      <td>8.962882</td>\n",
       "      <td>1.0</td>\n",
       "      <td>2.0</td>\n",
       "    </tr>\n",
       "    <tr>\n",
       "      <th>16</th>\n",
       "      <td>9.545448</td>\n",
       "      <td>1.0</td>\n",
       "      <td>3.0</td>\n",
       "    </tr>\n",
       "    <tr>\n",
       "      <th>17</th>\n",
       "      <td>10.227361</td>\n",
       "      <td>1.0</td>\n",
       "      <td>4.0</td>\n",
       "    </tr>\n",
       "    <tr>\n",
       "      <th>18</th>\n",
       "      <td>11.503304</td>\n",
       "      <td>1.0</td>\n",
       "      <td>3.0</td>\n",
       "    </tr>\n",
       "    <tr>\n",
       "      <th>19</th>\n",
       "      <td>11.799785</td>\n",
       "      <td>1.0</td>\n",
       "      <td>4.0</td>\n",
       "    </tr>\n",
       "  </tbody>\n",
       "</table>\n",
       "</div>"
      ],
      "text/plain": [
       "    timestamp  NIS_consult  NIS_no_consult\n",
       "0    0.000000          0.0             0.0\n",
       "1    1.009945          0.0             1.0\n",
       "2    1.263638          0.0             0.0\n",
       "3    2.160614          0.0             1.0\n",
       "4    2.608597          0.0             0.0\n",
       "5    2.653815          0.0             1.0\n",
       "6    3.522926          0.0             2.0\n",
       "7    4.546470          1.0             2.0\n",
       "8    4.901508          1.0             1.0\n",
       "9    5.320448          2.0             1.0\n",
       "10   5.556008          2.0             0.0\n",
       "11   6.800055          1.0             0.0\n",
       "12   7.166575          1.0             1.0\n",
       "13   7.293090          1.0             2.0\n",
       "14   7.618144          0.0             2.0\n",
       "15   8.962882          1.0             2.0\n",
       "16   9.545448          1.0             3.0\n",
       "17  10.227361          1.0             4.0\n",
       "18  11.503304          1.0             3.0\n",
       "19  11.799785          1.0             4.0"
      ]
     },
     "execution_count": 6,
     "metadata": {},
     "output_type": "execute_result"
    }
   ],
   "source": [
    "df_nis_separated.head(20)"
   ]
  },
  {
   "cell_type": "code",
   "execution_count": 7,
   "id": "collaborative-nitrogen",
   "metadata": {},
   "outputs": [
    {
     "name": "stdout",
     "output_type": "stream",
     "text": [
      "(80000, 7)\n",
      "(40000, 7)\n"
     ]
    },
    {
     "data": {
      "text/html": [
       "<div>\n",
       "<style scoped>\n",
       "    .dataframe tbody tr th:only-of-type {\n",
       "        vertical-align: middle;\n",
       "    }\n",
       "\n",
       "    .dataframe tbody tr th {\n",
       "        vertical-align: top;\n",
       "    }\n",
       "\n",
       "    .dataframe thead th {\n",
       "        text-align: right;\n",
       "    }\n",
       "</style>\n",
       "<table border=\"1\" class=\"dataframe\">\n",
       "  <thead>\n",
       "    <tr style=\"text-align: right;\">\n",
       "      <th></th>\n",
       "      <th>id_run</th>\n",
       "      <th>arrival_time</th>\n",
       "      <th>timestamp</th>\n",
       "      <th>event_type</th>\n",
       "      <th>C</th>\n",
       "      <th>A</th>\n",
       "      <th>elapsed</th>\n",
       "    </tr>\n",
       "  </thead>\n",
       "  <tbody>\n",
       "    <tr>\n",
       "      <th>0</th>\n",
       "      <td>0_0</td>\n",
       "      <td>1.009945</td>\n",
       "      <td>1.263638</td>\n",
       "      <td>d</td>\n",
       "      <td>1</td>\n",
       "      <td>0</td>\n",
       "      <td>0.253693</td>\n",
       "    </tr>\n",
       "    <tr>\n",
       "      <th>1</th>\n",
       "      <td>1_0</td>\n",
       "      <td>2.160614</td>\n",
       "      <td>2.608597</td>\n",
       "      <td>d</td>\n",
       "      <td>1</td>\n",
       "      <td>0</td>\n",
       "      <td>0.447983</td>\n",
       "    </tr>\n",
       "    <tr>\n",
       "      <th>2</th>\n",
       "      <td>2_0</td>\n",
       "      <td>2.653815</td>\n",
       "      <td>4.901508</td>\n",
       "      <td>d</td>\n",
       "      <td>1</td>\n",
       "      <td>0</td>\n",
       "      <td>2.247693</td>\n",
       "    </tr>\n",
       "    <tr>\n",
       "      <th>3</th>\n",
       "      <td>3_0</td>\n",
       "      <td>3.522926</td>\n",
       "      <td>5.556008</td>\n",
       "      <td>d</td>\n",
       "      <td>1</td>\n",
       "      <td>0</td>\n",
       "      <td>2.033082</td>\n",
       "    </tr>\n",
       "    <tr>\n",
       "      <th>4</th>\n",
       "      <td>4_0</td>\n",
       "      <td>4.546470</td>\n",
       "      <td>6.800055</td>\n",
       "      <td>d</td>\n",
       "      <td>0</td>\n",
       "      <td>0</td>\n",
       "      <td>2.253586</td>\n",
       "    </tr>\n",
       "  </tbody>\n",
       "</table>\n",
       "</div>"
      ],
      "text/plain": [
       "  id_run  arrival_time  timestamp event_type  C  A   elapsed\n",
       "0    0_0      1.009945   1.263638          d  1  0  0.253693\n",
       "1    1_0      2.160614   2.608597          d  1  0  0.447983\n",
       "2    2_0      2.653815   4.901508          d  1  0  2.247693\n",
       "3    3_0      3.522926   5.556008          d  1  0  2.033082\n",
       "4    4_0      4.546470   6.800055          d  0  0  2.253586"
      ]
     },
     "execution_count": 7,
     "metadata": {},
     "output_type": "execute_result"
    }
   ],
   "source": [
    "df_wiq_tis = pd.read_csv('data_WIQ_TIS.csv')\n",
    "print(df_wiq_tis.shape)\n",
    "df_wiq_tis = df_wiq_tis[df_wiq_tis['event_type'] == 'd']\n",
    "print(df_wiq_tis.shape)\n",
    "df_wiq_tis.head()"
   ]
  },
  {
   "cell_type": "code",
   "execution_count": 8,
   "id": "exterior-retrieval",
   "metadata": {},
   "outputs": [
    {
     "name": "stdout",
     "output_type": "stream",
     "text": [
      "(40000, 10)\n"
     ]
    },
    {
     "data": {
      "text/html": [
       "<div>\n",
       "<style scoped>\n",
       "    .dataframe tbody tr th:only-of-type {\n",
       "        vertical-align: middle;\n",
       "    }\n",
       "\n",
       "    .dataframe tbody tr th {\n",
       "        vertical-align: top;\n",
       "    }\n",
       "\n",
       "    .dataframe thead th {\n",
       "        text-align: right;\n",
       "    }\n",
       "</style>\n",
       "<table border=\"1\" class=\"dataframe\">\n",
       "  <thead>\n",
       "    <tr style=\"text-align: right;\">\n",
       "      <th></th>\n",
       "      <th>timestamp_x</th>\n",
       "      <th>NIS_consult</th>\n",
       "      <th>NIS_no_consult</th>\n",
       "      <th>id_run</th>\n",
       "      <th>arrival_time</th>\n",
       "      <th>timestamp_y</th>\n",
       "      <th>event_type</th>\n",
       "      <th>C</th>\n",
       "      <th>A</th>\n",
       "      <th>elapsed</th>\n",
       "    </tr>\n",
       "  </thead>\n",
       "  <tbody>\n",
       "    <tr>\n",
       "      <th>0</th>\n",
       "      <td>1.009945</td>\n",
       "      <td>0.0</td>\n",
       "      <td>1.0</td>\n",
       "      <td>0_0</td>\n",
       "      <td>1.009945</td>\n",
       "      <td>1.263638</td>\n",
       "      <td>d</td>\n",
       "      <td>1</td>\n",
       "      <td>0</td>\n",
       "      <td>0.253693</td>\n",
       "    </tr>\n",
       "    <tr>\n",
       "      <th>1</th>\n",
       "      <td>2.160614</td>\n",
       "      <td>0.0</td>\n",
       "      <td>1.0</td>\n",
       "      <td>1_0</td>\n",
       "      <td>2.160614</td>\n",
       "      <td>2.608597</td>\n",
       "      <td>d</td>\n",
       "      <td>1</td>\n",
       "      <td>0</td>\n",
       "      <td>0.447983</td>\n",
       "    </tr>\n",
       "    <tr>\n",
       "      <th>2</th>\n",
       "      <td>2.653815</td>\n",
       "      <td>0.0</td>\n",
       "      <td>1.0</td>\n",
       "      <td>2_0</td>\n",
       "      <td>2.653815</td>\n",
       "      <td>4.901508</td>\n",
       "      <td>d</td>\n",
       "      <td>1</td>\n",
       "      <td>0</td>\n",
       "      <td>2.247693</td>\n",
       "    </tr>\n",
       "    <tr>\n",
       "      <th>3</th>\n",
       "      <td>3.522926</td>\n",
       "      <td>0.0</td>\n",
       "      <td>2.0</td>\n",
       "      <td>3_0</td>\n",
       "      <td>3.522926</td>\n",
       "      <td>5.556008</td>\n",
       "      <td>d</td>\n",
       "      <td>1</td>\n",
       "      <td>0</td>\n",
       "      <td>2.033082</td>\n",
       "    </tr>\n",
       "    <tr>\n",
       "      <th>4</th>\n",
       "      <td>4.546470</td>\n",
       "      <td>1.0</td>\n",
       "      <td>2.0</td>\n",
       "      <td>4_0</td>\n",
       "      <td>4.546470</td>\n",
       "      <td>6.800055</td>\n",
       "      <td>d</td>\n",
       "      <td>0</td>\n",
       "      <td>0</td>\n",
       "      <td>2.253586</td>\n",
       "    </tr>\n",
       "  </tbody>\n",
       "</table>\n",
       "</div>"
      ],
      "text/plain": [
       "   timestamp_x  NIS_consult  NIS_no_consult id_run  arrival_time  timestamp_y  \\\n",
       "0     1.009945          0.0             1.0    0_0      1.009945     1.263638   \n",
       "1     2.160614          0.0             1.0    1_0      2.160614     2.608597   \n",
       "2     2.653815          0.0             1.0    2_0      2.653815     4.901508   \n",
       "3     3.522926          0.0             2.0    3_0      3.522926     5.556008   \n",
       "4     4.546470          1.0             2.0    4_0      4.546470     6.800055   \n",
       "\n",
       "  event_type  C  A   elapsed  \n",
       "0          d  1  0  0.253693  \n",
       "1          d  1  0  0.447983  \n",
       "2          d  1  0  2.247693  \n",
       "3          d  1  0  2.033082  \n",
       "4          d  0  0  2.253586  "
      ]
     },
     "execution_count": 8,
     "metadata": {},
     "output_type": "execute_result"
    }
   ],
   "source": [
    "new_df = pd.merge(df_nis_separated, df_wiq_tis,  how='inner', left_on=['timestamp'], right_on = ['arrival_time'])\n",
    "print(new_df.shape)\n",
    "new_df.head()"
   ]
  },
  {
   "cell_type": "code",
   "execution_count": 9,
   "id": "registered-country",
   "metadata": {},
   "outputs": [
    {
     "data": {
      "text/html": [
       "<div>\n",
       "<style scoped>\n",
       "    .dataframe tbody tr th:only-of-type {\n",
       "        vertical-align: middle;\n",
       "    }\n",
       "\n",
       "    .dataframe tbody tr th {\n",
       "        vertical-align: top;\n",
       "    }\n",
       "\n",
       "    .dataframe thead th {\n",
       "        text-align: right;\n",
       "    }\n",
       "</style>\n",
       "<table border=\"1\" class=\"dataframe\">\n",
       "  <thead>\n",
       "    <tr style=\"text-align: right;\">\n",
       "      <th></th>\n",
       "      <th>arrival_time</th>\n",
       "      <th>Type_No_Consult</th>\n",
       "      <th>NIS_consult</th>\n",
       "      <th>NIS_no_consult</th>\n",
       "      <th>LOS</th>\n",
       "    </tr>\n",
       "  </thead>\n",
       "  <tbody>\n",
       "    <tr>\n",
       "      <th>0</th>\n",
       "      <td>1.009945</td>\n",
       "      <td>1</td>\n",
       "      <td>0.0</td>\n",
       "      <td>1.0</td>\n",
       "      <td>0.253693</td>\n",
       "    </tr>\n",
       "    <tr>\n",
       "      <th>1</th>\n",
       "      <td>2.160614</td>\n",
       "      <td>1</td>\n",
       "      <td>0.0</td>\n",
       "      <td>1.0</td>\n",
       "      <td>0.447983</td>\n",
       "    </tr>\n",
       "    <tr>\n",
       "      <th>2</th>\n",
       "      <td>2.653815</td>\n",
       "      <td>1</td>\n",
       "      <td>0.0</td>\n",
       "      <td>1.0</td>\n",
       "      <td>2.247693</td>\n",
       "    </tr>\n",
       "    <tr>\n",
       "      <th>3</th>\n",
       "      <td>3.522926</td>\n",
       "      <td>1</td>\n",
       "      <td>0.0</td>\n",
       "      <td>2.0</td>\n",
       "      <td>2.033082</td>\n",
       "    </tr>\n",
       "    <tr>\n",
       "      <th>4</th>\n",
       "      <td>4.546470</td>\n",
       "      <td>0</td>\n",
       "      <td>1.0</td>\n",
       "      <td>2.0</td>\n",
       "      <td>2.253586</td>\n",
       "    </tr>\n",
       "    <tr>\n",
       "      <th>...</th>\n",
       "      <td>...</td>\n",
       "      <td>...</td>\n",
       "      <td>...</td>\n",
       "      <td>...</td>\n",
       "      <td>...</td>\n",
       "    </tr>\n",
       "    <tr>\n",
       "      <th>39995</th>\n",
       "      <td>44498.968327</td>\n",
       "      <td>1</td>\n",
       "      <td>0.0</td>\n",
       "      <td>5.0</td>\n",
       "      <td>6.855732</td>\n",
       "    </tr>\n",
       "    <tr>\n",
       "      <th>39996</th>\n",
       "      <td>44499.227551</td>\n",
       "      <td>1</td>\n",
       "      <td>0.0</td>\n",
       "      <td>6.0</td>\n",
       "      <td>10.480218</td>\n",
       "    </tr>\n",
       "    <tr>\n",
       "      <th>39997</th>\n",
       "      <td>44499.550381</td>\n",
       "      <td>1</td>\n",
       "      <td>0.0</td>\n",
       "      <td>7.0</td>\n",
       "      <td>10.846060</td>\n",
       "    </tr>\n",
       "    <tr>\n",
       "      <th>39998</th>\n",
       "      <td>44500.187678</td>\n",
       "      <td>1</td>\n",
       "      <td>0.0</td>\n",
       "      <td>7.0</td>\n",
       "      <td>10.893223</td>\n",
       "    </tr>\n",
       "    <tr>\n",
       "      <th>39999</th>\n",
       "      <td>44500.578194</td>\n",
       "      <td>1</td>\n",
       "      <td>0.0</td>\n",
       "      <td>8.0</td>\n",
       "      <td>10.574662</td>\n",
       "    </tr>\n",
       "  </tbody>\n",
       "</table>\n",
       "<p>40000 rows × 5 columns</p>\n",
       "</div>"
      ],
      "text/plain": [
       "       arrival_time  Type_No_Consult  NIS_consult  NIS_no_consult        LOS\n",
       "0          1.009945                1          0.0             1.0   0.253693\n",
       "1          2.160614                1          0.0             1.0   0.447983\n",
       "2          2.653815                1          0.0             1.0   2.247693\n",
       "3          3.522926                1          0.0             2.0   2.033082\n",
       "4          4.546470                0          1.0             2.0   2.253586\n",
       "...             ...              ...          ...             ...        ...\n",
       "39995  44498.968327                1          0.0             5.0   6.855732\n",
       "39996  44499.227551                1          0.0             6.0  10.480218\n",
       "39997  44499.550381                1          0.0             7.0  10.846060\n",
       "39998  44500.187678                1          0.0             7.0  10.893223\n",
       "39999  44500.578194                1          0.0             8.0  10.574662\n",
       "\n",
       "[40000 rows x 5 columns]"
      ]
     },
     "execution_count": 9,
     "metadata": {},
     "output_type": "execute_result"
    }
   ],
   "source": [
    "new_df = new_df[['arrival_time', 'C', 'NIS_consult', 'NIS_no_consult', 'elapsed']]\n",
    "new_df.columns = ['arrival_time', 'Type_No_Consult', 'NIS_consult', 'NIS_no_consult', 'LOS']\n",
    "new_df"
   ]
  },
  {
   "cell_type": "code",
   "execution_count": 10,
   "id": "copyrighted-dominant",
   "metadata": {},
   "outputs": [
    {
     "data": {
      "text/html": [
       "<div>\n",
       "<style scoped>\n",
       "    .dataframe tbody tr th:only-of-type {\n",
       "        vertical-align: middle;\n",
       "    }\n",
       "\n",
       "    .dataframe tbody tr th {\n",
       "        vertical-align: top;\n",
       "    }\n",
       "\n",
       "    .dataframe thead th {\n",
       "        text-align: right;\n",
       "    }\n",
       "</style>\n",
       "<table border=\"1\" class=\"dataframe\">\n",
       "  <thead>\n",
       "    <tr style=\"text-align: right;\">\n",
       "      <th></th>\n",
       "      <th>arrival_time</th>\n",
       "      <th>Type_No_Consult</th>\n",
       "      <th>NIS_consult</th>\n",
       "      <th>NIS_no_consult</th>\n",
       "      <th>LOS</th>\n",
       "    </tr>\n",
       "  </thead>\n",
       "  <tbody>\n",
       "    <tr>\n",
       "      <th>75</th>\n",
       "      <td>84.233729</td>\n",
       "      <td>1</td>\n",
       "      <td>0.0</td>\n",
       "      <td>2.0</td>\n",
       "      <td>4.208967</td>\n",
       "    </tr>\n",
       "    <tr>\n",
       "      <th>76</th>\n",
       "      <td>84.497065</td>\n",
       "      <td>1</td>\n",
       "      <td>0.0</td>\n",
       "      <td>3.0</td>\n",
       "      <td>4.119121</td>\n",
       "    </tr>\n",
       "    <tr>\n",
       "      <th>77</th>\n",
       "      <td>87.490464</td>\n",
       "      <td>1</td>\n",
       "      <td>0.0</td>\n",
       "      <td>3.0</td>\n",
       "      <td>2.089174</td>\n",
       "    </tr>\n",
       "    <tr>\n",
       "      <th>78</th>\n",
       "      <td>87.558266</td>\n",
       "      <td>1</td>\n",
       "      <td>0.0</td>\n",
       "      <td>4.0</td>\n",
       "      <td>2.219138</td>\n",
       "    </tr>\n",
       "    <tr>\n",
       "      <th>79</th>\n",
       "      <td>88.914941</td>\n",
       "      <td>1</td>\n",
       "      <td>0.0</td>\n",
       "      <td>3.0</td>\n",
       "      <td>0.954941</td>\n",
       "    </tr>\n",
       "  </tbody>\n",
       "</table>\n",
       "</div>"
      ],
      "text/plain": [
       "    arrival_time  Type_No_Consult  NIS_consult  NIS_no_consult       LOS\n",
       "75     84.233729                1          0.0             2.0  4.208967\n",
       "76     84.497065                1          0.0             3.0  4.119121\n",
       "77     87.490464                1          0.0             3.0  2.089174\n",
       "78     87.558266                1          0.0             4.0  2.219138\n",
       "79     88.914941                1          0.0             3.0  0.954941"
      ]
     },
     "execution_count": 10,
     "metadata": {},
     "output_type": "execute_result"
    }
   ],
   "source": [
    "df_test = new_df[75:]\n",
    "df_test.head()"
   ]
  },
  {
   "cell_type": "code",
   "execution_count": 11,
   "id": "virtual-writer",
   "metadata": {},
   "outputs": [],
   "source": [
    "x_test = df_test[['Type_No_Consult', 'NIS_consult', 'NIS_no_consult']]\n",
    "y_test = df_test[['LOS']]"
   ]
  },
  {
   "cell_type": "code",
   "execution_count": 12,
   "id": "waiting-relative",
   "metadata": {},
   "outputs": [
    {
     "data": {
      "text/html": [
       "<div>\n",
       "<style scoped>\n",
       "    .dataframe tbody tr th:only-of-type {\n",
       "        vertical-align: middle;\n",
       "    }\n",
       "\n",
       "    .dataframe tbody tr th {\n",
       "        vertical-align: top;\n",
       "    }\n",
       "\n",
       "    .dataframe thead th {\n",
       "        text-align: right;\n",
       "    }\n",
       "</style>\n",
       "<table border=\"1\" class=\"dataframe\">\n",
       "  <thead>\n",
       "    <tr style=\"text-align: right;\">\n",
       "      <th></th>\n",
       "      <th>Type_No_Consult</th>\n",
       "      <th>NIS_consult</th>\n",
       "      <th>NIS_no_consult</th>\n",
       "    </tr>\n",
       "  </thead>\n",
       "  <tbody>\n",
       "    <tr>\n",
       "      <th>75</th>\n",
       "      <td>1</td>\n",
       "      <td>0.0</td>\n",
       "      <td>2.0</td>\n",
       "    </tr>\n",
       "    <tr>\n",
       "      <th>76</th>\n",
       "      <td>1</td>\n",
       "      <td>0.0</td>\n",
       "      <td>3.0</td>\n",
       "    </tr>\n",
       "    <tr>\n",
       "      <th>77</th>\n",
       "      <td>1</td>\n",
       "      <td>0.0</td>\n",
       "      <td>3.0</td>\n",
       "    </tr>\n",
       "    <tr>\n",
       "      <th>78</th>\n",
       "      <td>1</td>\n",
       "      <td>0.0</td>\n",
       "      <td>4.0</td>\n",
       "    </tr>\n",
       "    <tr>\n",
       "      <th>79</th>\n",
       "      <td>1</td>\n",
       "      <td>0.0</td>\n",
       "      <td>3.0</td>\n",
       "    </tr>\n",
       "  </tbody>\n",
       "</table>\n",
       "</div>"
      ],
      "text/plain": [
       "    Type_No_Consult  NIS_consult  NIS_no_consult\n",
       "75                1          0.0             2.0\n",
       "76                1          0.0             3.0\n",
       "77                1          0.0             3.0\n",
       "78                1          0.0             4.0\n",
       "79                1          0.0             3.0"
      ]
     },
     "execution_count": 12,
     "metadata": {},
     "output_type": "execute_result"
    }
   ],
   "source": [
    "x_test.head()"
   ]
  },
  {
   "cell_type": "code",
   "execution_count": 13,
   "id": "manufactured-james",
   "metadata": {},
   "outputs": [
    {
     "data": {
      "text/html": [
       "<div>\n",
       "<style scoped>\n",
       "    .dataframe tbody tr th:only-of-type {\n",
       "        vertical-align: middle;\n",
       "    }\n",
       "\n",
       "    .dataframe tbody tr th {\n",
       "        vertical-align: top;\n",
       "    }\n",
       "\n",
       "    .dataframe thead th {\n",
       "        text-align: right;\n",
       "    }\n",
       "</style>\n",
       "<table border=\"1\" class=\"dataframe\">\n",
       "  <thead>\n",
       "    <tr style=\"text-align: right;\">\n",
       "      <th></th>\n",
       "      <th>LOS</th>\n",
       "    </tr>\n",
       "  </thead>\n",
       "  <tbody>\n",
       "    <tr>\n",
       "      <th>75</th>\n",
       "      <td>4.208967</td>\n",
       "    </tr>\n",
       "    <tr>\n",
       "      <th>76</th>\n",
       "      <td>4.119121</td>\n",
       "    </tr>\n",
       "    <tr>\n",
       "      <th>77</th>\n",
       "      <td>2.089174</td>\n",
       "    </tr>\n",
       "    <tr>\n",
       "      <th>78</th>\n",
       "      <td>2.219138</td>\n",
       "    </tr>\n",
       "    <tr>\n",
       "      <th>79</th>\n",
       "      <td>0.954941</td>\n",
       "    </tr>\n",
       "  </tbody>\n",
       "</table>\n",
       "</div>"
      ],
      "text/plain": [
       "         LOS\n",
       "75  4.208967\n",
       "76  4.119121\n",
       "77  2.089174\n",
       "78  2.219138\n",
       "79  0.954941"
      ]
     },
     "execution_count": 13,
     "metadata": {},
     "output_type": "execute_result"
    }
   ],
   "source": [
    "y_test.head()"
   ]
  },
  {
   "cell_type": "code",
   "execution_count": 14,
   "id": "baking-sunglasses",
   "metadata": {},
   "outputs": [],
   "source": [
    "new_df.to_csv('MM1_baseline_separate_nis.csv', index=False)"
   ]
  },
  {
   "cell_type": "code",
   "execution_count": 15,
   "id": "coupled-class",
   "metadata": {},
   "outputs": [
    {
     "data": {
      "text/plain": [
       "20.091031206481784"
      ]
     },
     "execution_count": 15,
     "metadata": {},
     "output_type": "execute_result"
    }
   ],
   "source": [
    "np.mean(new_df['LOS'])"
   ]
  },
  {
   "cell_type": "markdown",
   "id": "blank-medicine",
   "metadata": {},
   "source": [
    "## Naive calculation"
   ]
  },
  {
   "cell_type": "code",
   "execution_count": 16,
   "id": "electric-mambo",
   "metadata": {},
   "outputs": [],
   "source": [
    "def naive_calculations(df, cutdown):\n",
    "    los_list = []\n",
    "    for j in range(len(df)):\n",
    "        if df['Type_No_Consult'][j] == 0:  # consult patient\n",
    "            los_list.append(df['LOS'][j] * cutdown)\n",
    "        else:\n",
    "            los_list.append(df['LOS'][j])\n",
    "\n",
    "    mean = round(np.mean(los_list), 2)\n",
    "    median = round(np.median(los_list), 2)\n",
    "    stdev = round(np.std(los_list), 2)\n",
    "    P90 = round(np.percentile(los_list, q=90), 2)\n",
    "\n",
    "    return mean, median, stdev, P90"
   ]
  },
  {
   "cell_type": "code",
   "execution_count": 17,
   "id": "standing-winner",
   "metadata": {},
   "outputs": [
    {
     "data": {
      "text/html": [
       "<div>\n",
       "<style scoped>\n",
       "    .dataframe tbody tr th:only-of-type {\n",
       "        vertical-align: middle;\n",
       "    }\n",
       "\n",
       "    .dataframe tbody tr th {\n",
       "        vertical-align: top;\n",
       "    }\n",
       "\n",
       "    .dataframe thead th {\n",
       "        text-align: right;\n",
       "    }\n",
       "</style>\n",
       "<table border=\"1\" class=\"dataframe\">\n",
       "  <thead>\n",
       "    <tr style=\"text-align: right;\">\n",
       "      <th></th>\n",
       "      <th>arrival_time</th>\n",
       "      <th>Type_No_Consult</th>\n",
       "      <th>NIS_consult</th>\n",
       "      <th>NIS_no_consult</th>\n",
       "      <th>LOS</th>\n",
       "    </tr>\n",
       "  </thead>\n",
       "  <tbody>\n",
       "    <tr>\n",
       "      <th>0</th>\n",
       "      <td>1.009945</td>\n",
       "      <td>1</td>\n",
       "      <td>0.0</td>\n",
       "      <td>1.0</td>\n",
       "      <td>0.253693</td>\n",
       "    </tr>\n",
       "    <tr>\n",
       "      <th>1</th>\n",
       "      <td>2.160614</td>\n",
       "      <td>1</td>\n",
       "      <td>0.0</td>\n",
       "      <td>1.0</td>\n",
       "      <td>0.447983</td>\n",
       "    </tr>\n",
       "    <tr>\n",
       "      <th>2</th>\n",
       "      <td>2.653815</td>\n",
       "      <td>1</td>\n",
       "      <td>0.0</td>\n",
       "      <td>1.0</td>\n",
       "      <td>2.247693</td>\n",
       "    </tr>\n",
       "    <tr>\n",
       "      <th>3</th>\n",
       "      <td>3.522926</td>\n",
       "      <td>1</td>\n",
       "      <td>0.0</td>\n",
       "      <td>2.0</td>\n",
       "      <td>2.033082</td>\n",
       "    </tr>\n",
       "    <tr>\n",
       "      <th>4</th>\n",
       "      <td>4.546470</td>\n",
       "      <td>0</td>\n",
       "      <td>1.0</td>\n",
       "      <td>2.0</td>\n",
       "      <td>2.253586</td>\n",
       "    </tr>\n",
       "    <tr>\n",
       "      <th>...</th>\n",
       "      <td>...</td>\n",
       "      <td>...</td>\n",
       "      <td>...</td>\n",
       "      <td>...</td>\n",
       "      <td>...</td>\n",
       "    </tr>\n",
       "    <tr>\n",
       "      <th>39995</th>\n",
       "      <td>44498.968327</td>\n",
       "      <td>1</td>\n",
       "      <td>0.0</td>\n",
       "      <td>5.0</td>\n",
       "      <td>6.855732</td>\n",
       "    </tr>\n",
       "    <tr>\n",
       "      <th>39996</th>\n",
       "      <td>44499.227551</td>\n",
       "      <td>1</td>\n",
       "      <td>0.0</td>\n",
       "      <td>6.0</td>\n",
       "      <td>10.480218</td>\n",
       "    </tr>\n",
       "    <tr>\n",
       "      <th>39997</th>\n",
       "      <td>44499.550381</td>\n",
       "      <td>1</td>\n",
       "      <td>0.0</td>\n",
       "      <td>7.0</td>\n",
       "      <td>10.846060</td>\n",
       "    </tr>\n",
       "    <tr>\n",
       "      <th>39998</th>\n",
       "      <td>44500.187678</td>\n",
       "      <td>1</td>\n",
       "      <td>0.0</td>\n",
       "      <td>7.0</td>\n",
       "      <td>10.893223</td>\n",
       "    </tr>\n",
       "    <tr>\n",
       "      <th>39999</th>\n",
       "      <td>44500.578194</td>\n",
       "      <td>1</td>\n",
       "      <td>0.0</td>\n",
       "      <td>8.0</td>\n",
       "      <td>10.574662</td>\n",
       "    </tr>\n",
       "  </tbody>\n",
       "</table>\n",
       "<p>40000 rows × 5 columns</p>\n",
       "</div>"
      ],
      "text/plain": [
       "       arrival_time  Type_No_Consult  NIS_consult  NIS_no_consult        LOS\n",
       "0          1.009945                1          0.0             1.0   0.253693\n",
       "1          2.160614                1          0.0             1.0   0.447983\n",
       "2          2.653815                1          0.0             1.0   2.247693\n",
       "3          3.522926                1          0.0             2.0   2.033082\n",
       "4          4.546470                0          1.0             2.0   2.253586\n",
       "...             ...              ...          ...             ...        ...\n",
       "39995  44498.968327                1          0.0             5.0   6.855732\n",
       "39996  44499.227551                1          0.0             6.0  10.480218\n",
       "39997  44499.550381                1          0.0             7.0  10.846060\n",
       "39998  44500.187678                1          0.0             7.0  10.893223\n",
       "39999  44500.578194                1          0.0             8.0  10.574662\n",
       "\n",
       "[40000 rows x 5 columns]"
      ]
     },
     "execution_count": 17,
     "metadata": {},
     "output_type": "execute_result"
    }
   ],
   "source": [
    "new_df"
   ]
  },
  {
   "cell_type": "code",
   "execution_count": 18,
   "id": "killing-raleigh",
   "metadata": {},
   "outputs": [
    {
     "name": "stdout",
     "output_type": "stream",
     "text": [
      "Consult Patients shorten by 50.0 Percent\n",
      "Consult Patients shorten by 0.0 Percent\n",
      "   nPatients  nConsultPatients  percentConsult  Cut Down by (%)   Mean  \\\n",
      "0    10000.0             961.0             9.6             50.0  15.76   \n",
      "1    10000.0             961.0             9.6              0.0  16.57   \n",
      "\n",
      "   Median  Stdev  90th Percentile  \n",
      "0   11.71  13.40             35.4  \n",
      "1   12.71  13.68             36.8  \n"
     ]
    }
   ],
   "source": [
    "# Training data\n",
    "df_train = new_df[20000:30000].reset_index(drop=True)\n",
    "# df_test = new_df[30000:].reset_index(drop=True)\n",
    "\n",
    "df = df_train.copy()\n",
    "# df = df_test.copy()\n",
    "\n",
    "nPatients = len(df)\n",
    "nConsultPatients = len(df[df['Type_No_Consult'] == 0])\n",
    "percentConsult = round(nConsultPatients / nPatients * 100, 1)\n",
    "\n",
    "df_results = pd.DataFrame(\n",
    "    columns=['nPatients', 'nConsultPatients', 'percentConsult', 'Cut Down by (%)', 'Mean', 'Median',\n",
    "             'Stdev', '90th Percentile'])\n",
    "\n",
    "# cutdown_percentage = [0.1, 0.2, 0.3, 0.4, 0.5, 0.6, 0.7, 0.8, 0.9, 1.0]\n",
    "cutdown_percentage = [0.5, 1.0]\n",
    "for i, cutdown in enumerate(cutdown_percentage):\n",
    "    print(\"Consult Patients shorten by {} Percent\".format((1-cutdown)*100))\n",
    "    mean, median, stdev, P90 = naive_calculations(df, cutdown)\n",
    "    df_results.loc[i] = nPatients, nConsultPatients, percentConsult, (\n",
    "                1 - cutdown) * 100, mean, median, stdev, P90\n",
    "\n",
    "print(df_results)\n",
    "\n",
    "save_path_results = os.path.join(os.getcwd(), \"Consult_Reduction_Results_Naive_MM1_train.csv\")\n",
    "df_results.to_csv(save_path_results, index=False, header=True)"
   ]
  },
  {
   "cell_type": "code",
   "execution_count": null,
   "id": "after-leonard",
   "metadata": {},
   "outputs": [],
   "source": []
  },
  {
   "cell_type": "markdown",
   "id": "orange-rocket",
   "metadata": {},
   "source": [
    "# M/M/1 (40000 samples generated from M/M/1 simulator) - 1 general nis"
   ]
  },
  {
   "cell_type": "code",
   "execution_count": 19,
   "id": "waiting-wiring",
   "metadata": {},
   "outputs": [],
   "source": [
    "import csv\n",
    "import matplotlib.pyplot as plt\n",
    "import seaborn as sns\n",
    "from matplotlib.pyplot import figure\n",
    "import numpy as np"
   ]
  },
  {
   "cell_type": "code",
   "execution_count": 20,
   "id": "fossil-suspension",
   "metadata": {},
   "outputs": [],
   "source": [
    "def open_list_of_csv(csv_list):\n",
    "    los_list = [[],[],[],[],[]]\n",
    "    for i, filename in enumerate(csv_list):\n",
    "        print(filename)\n",
    "        with open(filename, newline='') as f:\n",
    "            reader = csv.reader(f)\n",
    "            for row in reader:\n",
    "                los_list[i].append(float(row[0]))\n",
    "    return los_list"
   ]
  },
  {
   "cell_type": "code",
   "execution_count": 21,
   "id": "swedish-friday",
   "metadata": {},
   "outputs": [],
   "source": [
    "def plot_los_distributions(los_list, title, x_lim):\n",
    "    figure(figsize=(8, 6), dpi=80)\n",
    "    sns.set_color_codes(\"colorblind\")\n",
    "    sns.histplot(los_list[0], bins='auto', element=\"step\", label='Actual LOS', color='b', alpha=0.2)\n",
    "    sns.histplot(los_list[1], bins='auto', element=\"step\", label='Simulated LOS', color='g', alpha=0.2)\n",
    "\n",
    "    plt.legend()\n",
    "    plt.title('Actual vs. Simulated LOS Distribution ({})'.format(title))\n",
    "    plt.ylabel('Frequency')\n",
    "    plt.xlim(0, x_lim)\n",
    "    plt.show"
   ]
  },
  {
   "cell_type": "code",
   "execution_count": 22,
   "id": "consistent-intake",
   "metadata": {},
   "outputs": [],
   "source": [
    "# plt.hist(los_list[0], bins = 50)"
   ]
  },
  {
   "cell_type": "markdown",
   "id": "sized-slovenia",
   "metadata": {},
   "source": [
    "# Out of Sample Test: Train on samples 10k-30k, Test on samples 30k-40k"
   ]
  },
  {
   "cell_type": "code",
   "execution_count": 23,
   "id": "superior-demand",
   "metadata": {},
   "outputs": [],
   "source": [
    "ofs_csv_list = ['LOS_Dist_Actual_MM1 - train10-30k test30-40k.csv', 'LOS_Dist_Simulated_MM1 - train10k-30k test30k-40k (1run).csv']"
   ]
  },
  {
   "cell_type": "code",
   "execution_count": 24,
   "id": "hungry-karma",
   "metadata": {
    "scrolled": true
   },
   "outputs": [
    {
     "name": "stdout",
     "output_type": "stream",
     "text": [
      "LOS_Dist_Actual_MM1 - train10-30k test30-40k.csv\n",
      "LOS_Dist_Simulated_MM1 - train10k-30k test30k-40k (1run).csv\n"
     ]
    }
   ],
   "source": [
    "ofs_los_list = open_list_of_csv(ofs_csv_list)"
   ]
  },
  {
   "cell_type": "code",
   "execution_count": 25,
   "id": "optimum-england",
   "metadata": {},
   "outputs": [
    {
     "data": {
      "text/plain": [
       "(10000, 10000)"
      ]
     },
     "execution_count": 25,
     "metadata": {},
     "output_type": "execute_result"
    }
   ],
   "source": [
    "len(ofs_los_list[0]), len(ofs_los_list[1])"
   ]
  },
  {
   "cell_type": "code",
   "execution_count": 26,
   "id": "official-hypothesis",
   "metadata": {},
   "outputs": [
    {
     "data": {
      "image/png": "[encoded data removed]",
      "text/plain": [
       "<Figure size 640x480 with 1 Axes>"
      ]
     },
     "metadata": {
      "needs_background": "light"
     },
     "output_type": "display_data"
    }
   ],
   "source": [
    "plot_los_distributions(ofs_los_list, 'M/M/1 Experiment (Out-of-Sample)', 300)"
   ]
  },
  {
   "cell_type": "code",
   "execution_count": 27,
   "id": "federal-rocket",
   "metadata": {},
   "outputs": [
    {
     "name": "stdout",
     "output_type": "stream",
     "text": [
      "actual mean los (1 run) 19.547403590587972\n",
      "simulated mean los (1 run) 48.66859994360468\n"
     ]
    }
   ],
   "source": [
    "print('actual mean los (1 run)', np.mean(ofs_los_list[0])) \n",
    "print('simulated mean los (1 run)', np.mean(ofs_los_list[1]))"
   ]
  },
  {
   "cell_type": "markdown",
   "id": "ceramic-timing",
   "metadata": {},
   "source": [
    "# In Sample Test: Train on samples 10k-30k, Test on samples 20k-30k"
   ]
  },
  {
   "cell_type": "code",
   "execution_count": 28,
   "id": "hungarian-memorabilia",
   "metadata": {},
   "outputs": [],
   "source": [
    "is_csv_list = ['LOS_Dist_Actual_MM1 - train10k-30k test20k-30k.csv', 'LOS_Dist_Simulated_MM1 - train10k-30k test20k-30k (1run).csv']"
   ]
  },
  {
   "cell_type": "code",
   "execution_count": 29,
   "id": "controlling-tuner",
   "metadata": {},
   "outputs": [
    {
     "name": "stdout",
     "output_type": "stream",
     "text": [
      "LOS_Dist_Actual_MM1 - train10k-30k test20k-30k.csv\n",
      "LOS_Dist_Simulated_MM1 - train10k-30k test20k-30k (1run).csv\n"
     ]
    }
   ],
   "source": [
    "is_los_list = open_list_of_csv(is_csv_list)"
   ]
  },
  {
   "cell_type": "code",
   "execution_count": 30,
   "id": "built-recommendation",
   "metadata": {},
   "outputs": [
    {
     "data": {
      "text/plain": [
       "(10000, 10000)"
      ]
     },
     "execution_count": 30,
     "metadata": {},
     "output_type": "execute_result"
    }
   ],
   "source": [
    "len(is_los_list[0]), len(is_los_list[1])"
   ]
  },
  {
   "cell_type": "code",
   "execution_count": 31,
   "id": "molecular-literature",
   "metadata": {},
   "outputs": [
    {
     "data": {
      "image/png": "[encoded data removed]",
      "text/plain": [
       "<Figure size 640x480 with 1 Axes>"
      ]
     },
     "metadata": {
      "needs_background": "light"
     },
     "output_type": "display_data"
    }
   ],
   "source": [
    "plot_los_distributions(is_los_list, 'M/M/1 Experiment (In-Sample)', 300)"
   ]
  },
  {
   "cell_type": "code",
   "execution_count": 32,
   "id": "humanitarian-concrete",
   "metadata": {},
   "outputs": [
    {
     "name": "stdout",
     "output_type": "stream",
     "text": [
      "actual mean los (1 run) 16.57360031083062\n",
      "simulated mean los (1 run) 52.39052384390484\n"
     ]
    }
   ],
   "source": [
    "print('actual mean los (1 run)', np.mean(is_los_list[0])) \n",
    "print('simulated mean los (1 run)', np.mean(is_los_list[1]))"
   ]
  },
  {
   "cell_type": "code",
   "execution_count": null,
   "id": "ac57327e",
   "metadata": {},
   "outputs": [],
   "source": []
  },
  {
   "cell_type": "code",
   "execution_count": null,
   "id": "cbb7c617",
   "metadata": {},
   "outputs": [],
   "source": []
  },
  {
   "cell_type": "code",
   "execution_count": null,
   "id": "f9015da6",
   "metadata": {},
   "outputs": [],
   "source": []
  }
 ],
 "metadata": {
  "kernelspec": {
   "display_name": "Python 3",
   "language": "python",
   "name": "python3"
  },
  "language_info": {
   "codemirror_mode": {
    "name": "ipython",
    "version": 3
   },
   "file_extension": ".py",
   "mimetype": "text/x-python",
   "name": "python",
   "nbconvert_exporter": "python",
   "pygments_lexer": "ipython3",
   "version": "3.7.6"
  }
 },
 "nbformat": 4,
 "nbformat_minor": 5
}
